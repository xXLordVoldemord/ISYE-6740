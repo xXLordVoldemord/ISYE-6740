{
 "cells": [
  {
   "cell_type": "code",
   "execution_count": 3,
   "metadata": {},
   "outputs": [],
   "source": [
    "#import all necessary libraries\n",
    "import numpy as np\n",
    "import pandas as pd\n",
    "import matplotlib.pyplot as plt\n",
    "import imageio\n",
    "import numpy.matlib\n",
    "import os"
   ]
  },
  {
   "cell_type": "code",
   "execution_count": 6,
   "metadata": {},
   "outputs": [
    {
     "data": {
      "text/plain": [
       "'C:\\\\Users\\\\la-ma\\\\data'"
      ]
     },
     "execution_count": 6,
     "metadata": {},
     "output_type": "execute_result"
    }
   ],
   "source": [
    "os.getcwd()"
   ]
  },
  {
   "cell_type": "code",
   "execution_count": 5,
   "metadata": {},
   "outputs": [],
   "source": [
    "os.chdir('data')"
   ]
  },
  {
   "cell_type": "code",
   "execution_count": 68,
   "metadata": {},
   "outputs": [],
   "source": [
    "food_consumption = pd.read_csv('food-consumption.csv')"
   ]
  },
  {
   "cell_type": "code",
   "execution_count": 71,
   "metadata": {},
   "outputs": [
    {
     "data": {
      "text/html": [
       "<div>\n",
       "<style scoped>\n",
       "    .dataframe tbody tr th:only-of-type {\n",
       "        vertical-align: middle;\n",
       "    }\n",
       "\n",
       "    .dataframe tbody tr th {\n",
       "        vertical-align: top;\n",
       "    }\n",
       "\n",
       "    .dataframe thead th {\n",
       "        text-align: right;\n",
       "    }\n",
       "</style>\n",
       "<table border=\"1\" class=\"dataframe\">\n",
       "  <thead>\n",
       "    <tr style=\"text-align: right;\">\n",
       "      <th></th>\n",
       "      <th>Country</th>\n",
       "      <th>Real coffee</th>\n",
       "      <th>Instant coffee</th>\n",
       "      <th>Tea</th>\n",
       "      <th>Sweetener</th>\n",
       "      <th>Biscuits</th>\n",
       "      <th>Powder soup</th>\n",
       "      <th>Tin soup</th>\n",
       "      <th>Potatoes</th>\n",
       "      <th>Frozen fish</th>\n",
       "      <th>...</th>\n",
       "      <th>Apples</th>\n",
       "      <th>Oranges</th>\n",
       "      <th>Tinned fruit</th>\n",
       "      <th>Jam</th>\n",
       "      <th>Garlic</th>\n",
       "      <th>Butter</th>\n",
       "      <th>Margarine</th>\n",
       "      <th>Olive oil</th>\n",
       "      <th>Yoghurt</th>\n",
       "      <th>Crisp bread</th>\n",
       "    </tr>\n",
       "  </thead>\n",
       "  <tbody>\n",
       "    <tr>\n",
       "      <th>0</th>\n",
       "      <td>Germany</td>\n",
       "      <td>90</td>\n",
       "      <td>49</td>\n",
       "      <td>88</td>\n",
       "      <td>19</td>\n",
       "      <td>57</td>\n",
       "      <td>51</td>\n",
       "      <td>19</td>\n",
       "      <td>21</td>\n",
       "      <td>27</td>\n",
       "      <td>...</td>\n",
       "      <td>81</td>\n",
       "      <td>75</td>\n",
       "      <td>44</td>\n",
       "      <td>71</td>\n",
       "      <td>22</td>\n",
       "      <td>91</td>\n",
       "      <td>85</td>\n",
       "      <td>74</td>\n",
       "      <td>30</td>\n",
       "      <td>26</td>\n",
       "    </tr>\n",
       "    <tr>\n",
       "      <th>1</th>\n",
       "      <td>Italy</td>\n",
       "      <td>82</td>\n",
       "      <td>10</td>\n",
       "      <td>60</td>\n",
       "      <td>2</td>\n",
       "      <td>55</td>\n",
       "      <td>41</td>\n",
       "      <td>3</td>\n",
       "      <td>2</td>\n",
       "      <td>4</td>\n",
       "      <td>...</td>\n",
       "      <td>67</td>\n",
       "      <td>71</td>\n",
       "      <td>9</td>\n",
       "      <td>46</td>\n",
       "      <td>80</td>\n",
       "      <td>66</td>\n",
       "      <td>24</td>\n",
       "      <td>94</td>\n",
       "      <td>5</td>\n",
       "      <td>18</td>\n",
       "    </tr>\n",
       "    <tr>\n",
       "      <th>2</th>\n",
       "      <td>France</td>\n",
       "      <td>88</td>\n",
       "      <td>42</td>\n",
       "      <td>63</td>\n",
       "      <td>4</td>\n",
       "      <td>76</td>\n",
       "      <td>53</td>\n",
       "      <td>11</td>\n",
       "      <td>23</td>\n",
       "      <td>11</td>\n",
       "      <td>...</td>\n",
       "      <td>87</td>\n",
       "      <td>84</td>\n",
       "      <td>40</td>\n",
       "      <td>45</td>\n",
       "      <td>88</td>\n",
       "      <td>94</td>\n",
       "      <td>47</td>\n",
       "      <td>36</td>\n",
       "      <td>57</td>\n",
       "      <td>3</td>\n",
       "    </tr>\n",
       "    <tr>\n",
       "      <th>3</th>\n",
       "      <td>Holland</td>\n",
       "      <td>96</td>\n",
       "      <td>62</td>\n",
       "      <td>98</td>\n",
       "      <td>32</td>\n",
       "      <td>62</td>\n",
       "      <td>67</td>\n",
       "      <td>43</td>\n",
       "      <td>7</td>\n",
       "      <td>14</td>\n",
       "      <td>...</td>\n",
       "      <td>83</td>\n",
       "      <td>89</td>\n",
       "      <td>61</td>\n",
       "      <td>81</td>\n",
       "      <td>15</td>\n",
       "      <td>31</td>\n",
       "      <td>97</td>\n",
       "      <td>13</td>\n",
       "      <td>53</td>\n",
       "      <td>15</td>\n",
       "    </tr>\n",
       "    <tr>\n",
       "      <th>4</th>\n",
       "      <td>Belgium</td>\n",
       "      <td>94</td>\n",
       "      <td>38</td>\n",
       "      <td>48</td>\n",
       "      <td>11</td>\n",
       "      <td>74</td>\n",
       "      <td>37</td>\n",
       "      <td>23</td>\n",
       "      <td>9</td>\n",
       "      <td>13</td>\n",
       "      <td>...</td>\n",
       "      <td>76</td>\n",
       "      <td>76</td>\n",
       "      <td>42</td>\n",
       "      <td>57</td>\n",
       "      <td>29</td>\n",
       "      <td>84</td>\n",
       "      <td>80</td>\n",
       "      <td>83</td>\n",
       "      <td>20</td>\n",
       "      <td>5</td>\n",
       "    </tr>\n",
       "    <tr>\n",
       "      <th>5</th>\n",
       "      <td>Luxembourg</td>\n",
       "      <td>97</td>\n",
       "      <td>61</td>\n",
       "      <td>86</td>\n",
       "      <td>28</td>\n",
       "      <td>79</td>\n",
       "      <td>73</td>\n",
       "      <td>12</td>\n",
       "      <td>7</td>\n",
       "      <td>26</td>\n",
       "      <td>...</td>\n",
       "      <td>85</td>\n",
       "      <td>94</td>\n",
       "      <td>83</td>\n",
       "      <td>20</td>\n",
       "      <td>91</td>\n",
       "      <td>94</td>\n",
       "      <td>94</td>\n",
       "      <td>84</td>\n",
       "      <td>31</td>\n",
       "      <td>24</td>\n",
       "    </tr>\n",
       "    <tr>\n",
       "      <th>6</th>\n",
       "      <td>England</td>\n",
       "      <td>27</td>\n",
       "      <td>86</td>\n",
       "      <td>99</td>\n",
       "      <td>22</td>\n",
       "      <td>91</td>\n",
       "      <td>55</td>\n",
       "      <td>76</td>\n",
       "      <td>17</td>\n",
       "      <td>20</td>\n",
       "      <td>...</td>\n",
       "      <td>76</td>\n",
       "      <td>68</td>\n",
       "      <td>89</td>\n",
       "      <td>91</td>\n",
       "      <td>11</td>\n",
       "      <td>95</td>\n",
       "      <td>94</td>\n",
       "      <td>57</td>\n",
       "      <td>11</td>\n",
       "      <td>28</td>\n",
       "    </tr>\n",
       "    <tr>\n",
       "      <th>7</th>\n",
       "      <td>Portugal</td>\n",
       "      <td>72</td>\n",
       "      <td>26</td>\n",
       "      <td>77</td>\n",
       "      <td>2</td>\n",
       "      <td>22</td>\n",
       "      <td>34</td>\n",
       "      <td>1</td>\n",
       "      <td>5</td>\n",
       "      <td>20</td>\n",
       "      <td>...</td>\n",
       "      <td>22</td>\n",
       "      <td>51</td>\n",
       "      <td>8</td>\n",
       "      <td>16</td>\n",
       "      <td>89</td>\n",
       "      <td>65</td>\n",
       "      <td>78</td>\n",
       "      <td>92</td>\n",
       "      <td>6</td>\n",
       "      <td>9</td>\n",
       "    </tr>\n",
       "    <tr>\n",
       "      <th>8</th>\n",
       "      <td>Austria</td>\n",
       "      <td>55</td>\n",
       "      <td>31</td>\n",
       "      <td>61</td>\n",
       "      <td>15</td>\n",
       "      <td>29</td>\n",
       "      <td>33</td>\n",
       "      <td>1</td>\n",
       "      <td>5</td>\n",
       "      <td>15</td>\n",
       "      <td>...</td>\n",
       "      <td>49</td>\n",
       "      <td>42</td>\n",
       "      <td>14</td>\n",
       "      <td>41</td>\n",
       "      <td>51</td>\n",
       "      <td>51</td>\n",
       "      <td>72</td>\n",
       "      <td>28</td>\n",
       "      <td>13</td>\n",
       "      <td>11</td>\n",
       "    </tr>\n",
       "    <tr>\n",
       "      <th>9</th>\n",
       "      <td>Switzerland</td>\n",
       "      <td>73</td>\n",
       "      <td>72</td>\n",
       "      <td>85</td>\n",
       "      <td>25</td>\n",
       "      <td>31</td>\n",
       "      <td>69</td>\n",
       "      <td>10</td>\n",
       "      <td>17</td>\n",
       "      <td>19</td>\n",
       "      <td>...</td>\n",
       "      <td>79</td>\n",
       "      <td>70</td>\n",
       "      <td>46</td>\n",
       "      <td>61</td>\n",
       "      <td>64</td>\n",
       "      <td>82</td>\n",
       "      <td>48</td>\n",
       "      <td>61</td>\n",
       "      <td>48</td>\n",
       "      <td>30</td>\n",
       "    </tr>\n",
       "    <tr>\n",
       "      <th>10</th>\n",
       "      <td>Sweden</td>\n",
       "      <td>97</td>\n",
       "      <td>13</td>\n",
       "      <td>93</td>\n",
       "      <td>31</td>\n",
       "      <td>61</td>\n",
       "      <td>43</td>\n",
       "      <td>43</td>\n",
       "      <td>39</td>\n",
       "      <td>54</td>\n",
       "      <td>...</td>\n",
       "      <td>56</td>\n",
       "      <td>78</td>\n",
       "      <td>53</td>\n",
       "      <td>75</td>\n",
       "      <td>9</td>\n",
       "      <td>68</td>\n",
       "      <td>32</td>\n",
       "      <td>48</td>\n",
       "      <td>2</td>\n",
       "      <td>93</td>\n",
       "    </tr>\n",
       "    <tr>\n",
       "      <th>11</th>\n",
       "      <td>Denmark</td>\n",
       "      <td>96</td>\n",
       "      <td>17</td>\n",
       "      <td>92</td>\n",
       "      <td>35</td>\n",
       "      <td>66</td>\n",
       "      <td>32</td>\n",
       "      <td>17</td>\n",
       "      <td>11</td>\n",
       "      <td>51</td>\n",
       "      <td>...</td>\n",
       "      <td>81</td>\n",
       "      <td>72</td>\n",
       "      <td>50</td>\n",
       "      <td>64</td>\n",
       "      <td>11</td>\n",
       "      <td>92</td>\n",
       "      <td>91</td>\n",
       "      <td>30</td>\n",
       "      <td>11</td>\n",
       "      <td>34</td>\n",
       "    </tr>\n",
       "    <tr>\n",
       "      <th>12</th>\n",
       "      <td>Norway</td>\n",
       "      <td>92</td>\n",
       "      <td>17</td>\n",
       "      <td>83</td>\n",
       "      <td>13</td>\n",
       "      <td>62</td>\n",
       "      <td>51</td>\n",
       "      <td>4</td>\n",
       "      <td>17</td>\n",
       "      <td>30</td>\n",
       "      <td>...</td>\n",
       "      <td>61</td>\n",
       "      <td>72</td>\n",
       "      <td>34</td>\n",
       "      <td>51</td>\n",
       "      <td>11</td>\n",
       "      <td>63</td>\n",
       "      <td>94</td>\n",
       "      <td>28</td>\n",
       "      <td>2</td>\n",
       "      <td>62</td>\n",
       "    </tr>\n",
       "    <tr>\n",
       "      <th>13</th>\n",
       "      <td>Finland</td>\n",
       "      <td>98</td>\n",
       "      <td>12</td>\n",
       "      <td>84</td>\n",
       "      <td>20</td>\n",
       "      <td>64</td>\n",
       "      <td>27</td>\n",
       "      <td>10</td>\n",
       "      <td>8</td>\n",
       "      <td>18</td>\n",
       "      <td>...</td>\n",
       "      <td>50</td>\n",
       "      <td>57</td>\n",
       "      <td>22</td>\n",
       "      <td>37</td>\n",
       "      <td>15</td>\n",
       "      <td>96</td>\n",
       "      <td>94</td>\n",
       "      <td>17</td>\n",
       "      <td>21</td>\n",
       "      <td>64</td>\n",
       "    </tr>\n",
       "    <tr>\n",
       "      <th>14</th>\n",
       "      <td>Spain</td>\n",
       "      <td>70</td>\n",
       "      <td>40</td>\n",
       "      <td>40</td>\n",
       "      <td>18</td>\n",
       "      <td>62</td>\n",
       "      <td>43</td>\n",
       "      <td>2</td>\n",
       "      <td>14</td>\n",
       "      <td>23</td>\n",
       "      <td>...</td>\n",
       "      <td>59</td>\n",
       "      <td>77</td>\n",
       "      <td>30</td>\n",
       "      <td>38</td>\n",
       "      <td>86</td>\n",
       "      <td>44</td>\n",
       "      <td>51</td>\n",
       "      <td>91</td>\n",
       "      <td>16</td>\n",
       "      <td>13</td>\n",
       "    </tr>\n",
       "    <tr>\n",
       "      <th>15</th>\n",
       "      <td>Ireland</td>\n",
       "      <td>30</td>\n",
       "      <td>52</td>\n",
       "      <td>99</td>\n",
       "      <td>11</td>\n",
       "      <td>80</td>\n",
       "      <td>75</td>\n",
       "      <td>18</td>\n",
       "      <td>2</td>\n",
       "      <td>5</td>\n",
       "      <td>...</td>\n",
       "      <td>57</td>\n",
       "      <td>52</td>\n",
       "      <td>46</td>\n",
       "      <td>89</td>\n",
       "      <td>5</td>\n",
       "      <td>97</td>\n",
       "      <td>25</td>\n",
       "      <td>31</td>\n",
       "      <td>3</td>\n",
       "      <td>9</td>\n",
       "    </tr>\n",
       "  </tbody>\n",
       "</table>\n",
       "<p>16 rows × 21 columns</p>\n",
       "</div>"
      ],
      "text/plain": [
       "        Country  Real coffee  Instant coffee  Tea  Sweetener  Biscuits  \\\n",
       "0       Germany           90              49   88         19        57   \n",
       "1         Italy           82              10   60          2        55   \n",
       "2        France           88              42   63          4        76   \n",
       "3       Holland           96              62   98         32        62   \n",
       "4       Belgium           94              38   48         11        74   \n",
       "5    Luxembourg           97              61   86         28        79   \n",
       "6       England           27              86   99         22        91   \n",
       "7      Portugal           72              26   77          2        22   \n",
       "8       Austria           55              31   61         15        29   \n",
       "9   Switzerland           73              72   85         25        31   \n",
       "10       Sweden           97              13   93         31        61   \n",
       "11      Denmark           96              17   92         35        66   \n",
       "12       Norway           92              17   83         13        62   \n",
       "13      Finland           98              12   84         20        64   \n",
       "14        Spain           70              40   40         18        62   \n",
       "15      Ireland           30              52   99         11        80   \n",
       "\n",
       "    Powder soup  Tin soup  Potatoes  Frozen fish  ...  Apples  Oranges  \\\n",
       "0            51        19        21           27  ...      81       75   \n",
       "1            41         3         2            4  ...      67       71   \n",
       "2            53        11        23           11  ...      87       84   \n",
       "3            67        43         7           14  ...      83       89   \n",
       "4            37        23         9           13  ...      76       76   \n",
       "5            73        12         7           26  ...      85       94   \n",
       "6            55        76        17           20  ...      76       68   \n",
       "7            34         1         5           20  ...      22       51   \n",
       "8            33         1         5           15  ...      49       42   \n",
       "9            69        10        17           19  ...      79       70   \n",
       "10           43        43        39           54  ...      56       78   \n",
       "11           32        17        11           51  ...      81       72   \n",
       "12           51         4        17           30  ...      61       72   \n",
       "13           27        10         8           18  ...      50       57   \n",
       "14           43         2        14           23  ...      59       77   \n",
       "15           75        18         2            5  ...      57       52   \n",
       "\n",
       "    Tinned fruit  Jam  Garlic  Butter  Margarine  Olive oil  Yoghurt  \\\n",
       "0             44   71      22      91         85         74       30   \n",
       "1              9   46      80      66         24         94        5   \n",
       "2             40   45      88      94         47         36       57   \n",
       "3             61   81      15      31         97         13       53   \n",
       "4             42   57      29      84         80         83       20   \n",
       "5             83   20      91      94         94         84       31   \n",
       "6             89   91      11      95         94         57       11   \n",
       "7              8   16      89      65         78         92        6   \n",
       "8             14   41      51      51         72         28       13   \n",
       "9             46   61      64      82         48         61       48   \n",
       "10            53   75       9      68         32         48        2   \n",
       "11            50   64      11      92         91         30       11   \n",
       "12            34   51      11      63         94         28        2   \n",
       "13            22   37      15      96         94         17       21   \n",
       "14            30   38      86      44         51         91       16   \n",
       "15            46   89       5      97         25         31        3   \n",
       "\n",
       "    Crisp bread  \n",
       "0            26  \n",
       "1            18  \n",
       "2             3  \n",
       "3            15  \n",
       "4             5  \n",
       "5            24  \n",
       "6            28  \n",
       "7             9  \n",
       "8            11  \n",
       "9            30  \n",
       "10           93  \n",
       "11           34  \n",
       "12           62  \n",
       "13           64  \n",
       "14           13  \n",
       "15            9  \n",
       "\n",
       "[16 rows x 21 columns]"
      ]
     },
     "execution_count": 71,
     "metadata": {},
     "output_type": "execute_result"
    }
   ],
   "source": [
    "food_consumption"
   ]
  },
  {
   "cell_type": "code",
   "execution_count": 9,
   "metadata": {},
   "outputs": [
    {
     "data": {
      "text/plain": [
       "pandas.core.frame.DataFrame"
      ]
     },
     "execution_count": 9,
     "metadata": {},
     "output_type": "execute_result"
    }
   ],
   "source": [
    "type(food_consumption)"
   ]
  },
  {
   "cell_type": "code",
   "execution_count": 74,
   "metadata": {},
   "outputs": [
    {
     "data": {
      "text/html": [
       "<div>\n",
       "<style scoped>\n",
       "    .dataframe tbody tr th:only-of-type {\n",
       "        vertical-align: middle;\n",
       "    }\n",
       "\n",
       "    .dataframe tbody tr th {\n",
       "        vertical-align: top;\n",
       "    }\n",
       "\n",
       "    .dataframe thead th {\n",
       "        text-align: right;\n",
       "    }\n",
       "</style>\n",
       "<table border=\"1\" class=\"dataframe\">\n",
       "  <thead>\n",
       "    <tr style=\"text-align: right;\">\n",
       "      <th></th>\n",
       "      <th>Real coffee</th>\n",
       "      <th>Instant coffee</th>\n",
       "      <th>Tea</th>\n",
       "      <th>Sweetener</th>\n",
       "      <th>Biscuits</th>\n",
       "      <th>Powder soup</th>\n",
       "      <th>Tin soup</th>\n",
       "      <th>Potatoes</th>\n",
       "      <th>Frozen fish</th>\n",
       "      <th>Frozen veggies</th>\n",
       "      <th>Apples</th>\n",
       "      <th>Oranges</th>\n",
       "      <th>Tinned fruit</th>\n",
       "      <th>Jam</th>\n",
       "      <th>Garlic</th>\n",
       "      <th>Butter</th>\n",
       "      <th>Margarine</th>\n",
       "      <th>Olive oil</th>\n",
       "      <th>Yoghurt</th>\n",
       "      <th>Crisp bread</th>\n",
       "    </tr>\n",
       "  </thead>\n",
       "  <tbody>\n",
       "    <tr>\n",
       "      <th>0</th>\n",
       "      <td>90</td>\n",
       "      <td>49</td>\n",
       "      <td>88</td>\n",
       "      <td>19</td>\n",
       "      <td>57</td>\n",
       "      <td>51</td>\n",
       "      <td>19</td>\n",
       "      <td>21</td>\n",
       "      <td>27</td>\n",
       "      <td>21</td>\n",
       "      <td>81</td>\n",
       "      <td>75</td>\n",
       "      <td>44</td>\n",
       "      <td>71</td>\n",
       "      <td>22</td>\n",
       "      <td>91</td>\n",
       "      <td>85</td>\n",
       "      <td>74</td>\n",
       "      <td>30</td>\n",
       "      <td>26</td>\n",
       "    </tr>\n",
       "    <tr>\n",
       "      <th>1</th>\n",
       "      <td>82</td>\n",
       "      <td>10</td>\n",
       "      <td>60</td>\n",
       "      <td>2</td>\n",
       "      <td>55</td>\n",
       "      <td>41</td>\n",
       "      <td>3</td>\n",
       "      <td>2</td>\n",
       "      <td>4</td>\n",
       "      <td>2</td>\n",
       "      <td>67</td>\n",
       "      <td>71</td>\n",
       "      <td>9</td>\n",
       "      <td>46</td>\n",
       "      <td>80</td>\n",
       "      <td>66</td>\n",
       "      <td>24</td>\n",
       "      <td>94</td>\n",
       "      <td>5</td>\n",
       "      <td>18</td>\n",
       "    </tr>\n",
       "    <tr>\n",
       "      <th>2</th>\n",
       "      <td>88</td>\n",
       "      <td>42</td>\n",
       "      <td>63</td>\n",
       "      <td>4</td>\n",
       "      <td>76</td>\n",
       "      <td>53</td>\n",
       "      <td>11</td>\n",
       "      <td>23</td>\n",
       "      <td>11</td>\n",
       "      <td>5</td>\n",
       "      <td>87</td>\n",
       "      <td>84</td>\n",
       "      <td>40</td>\n",
       "      <td>45</td>\n",
       "      <td>88</td>\n",
       "      <td>94</td>\n",
       "      <td>47</td>\n",
       "      <td>36</td>\n",
       "      <td>57</td>\n",
       "      <td>3</td>\n",
       "    </tr>\n",
       "    <tr>\n",
       "      <th>3</th>\n",
       "      <td>96</td>\n",
       "      <td>62</td>\n",
       "      <td>98</td>\n",
       "      <td>32</td>\n",
       "      <td>62</td>\n",
       "      <td>67</td>\n",
       "      <td>43</td>\n",
       "      <td>7</td>\n",
       "      <td>14</td>\n",
       "      <td>14</td>\n",
       "      <td>83</td>\n",
       "      <td>89</td>\n",
       "      <td>61</td>\n",
       "      <td>81</td>\n",
       "      <td>15</td>\n",
       "      <td>31</td>\n",
       "      <td>97</td>\n",
       "      <td>13</td>\n",
       "      <td>53</td>\n",
       "      <td>15</td>\n",
       "    </tr>\n",
       "    <tr>\n",
       "      <th>4</th>\n",
       "      <td>94</td>\n",
       "      <td>38</td>\n",
       "      <td>48</td>\n",
       "      <td>11</td>\n",
       "      <td>74</td>\n",
       "      <td>37</td>\n",
       "      <td>23</td>\n",
       "      <td>9</td>\n",
       "      <td>13</td>\n",
       "      <td>12</td>\n",
       "      <td>76</td>\n",
       "      <td>76</td>\n",
       "      <td>42</td>\n",
       "      <td>57</td>\n",
       "      <td>29</td>\n",
       "      <td>84</td>\n",
       "      <td>80</td>\n",
       "      <td>83</td>\n",
       "      <td>20</td>\n",
       "      <td>5</td>\n",
       "    </tr>\n",
       "    <tr>\n",
       "      <th>5</th>\n",
       "      <td>97</td>\n",
       "      <td>61</td>\n",
       "      <td>86</td>\n",
       "      <td>28</td>\n",
       "      <td>79</td>\n",
       "      <td>73</td>\n",
       "      <td>12</td>\n",
       "      <td>7</td>\n",
       "      <td>26</td>\n",
       "      <td>23</td>\n",
       "      <td>85</td>\n",
       "      <td>94</td>\n",
       "      <td>83</td>\n",
       "      <td>20</td>\n",
       "      <td>91</td>\n",
       "      <td>94</td>\n",
       "      <td>94</td>\n",
       "      <td>84</td>\n",
       "      <td>31</td>\n",
       "      <td>24</td>\n",
       "    </tr>\n",
       "    <tr>\n",
       "      <th>6</th>\n",
       "      <td>27</td>\n",
       "      <td>86</td>\n",
       "      <td>99</td>\n",
       "      <td>22</td>\n",
       "      <td>91</td>\n",
       "      <td>55</td>\n",
       "      <td>76</td>\n",
       "      <td>17</td>\n",
       "      <td>20</td>\n",
       "      <td>24</td>\n",
       "      <td>76</td>\n",
       "      <td>68</td>\n",
       "      <td>89</td>\n",
       "      <td>91</td>\n",
       "      <td>11</td>\n",
       "      <td>95</td>\n",
       "      <td>94</td>\n",
       "      <td>57</td>\n",
       "      <td>11</td>\n",
       "      <td>28</td>\n",
       "    </tr>\n",
       "    <tr>\n",
       "      <th>7</th>\n",
       "      <td>72</td>\n",
       "      <td>26</td>\n",
       "      <td>77</td>\n",
       "      <td>2</td>\n",
       "      <td>22</td>\n",
       "      <td>34</td>\n",
       "      <td>1</td>\n",
       "      <td>5</td>\n",
       "      <td>20</td>\n",
       "      <td>3</td>\n",
       "      <td>22</td>\n",
       "      <td>51</td>\n",
       "      <td>8</td>\n",
       "      <td>16</td>\n",
       "      <td>89</td>\n",
       "      <td>65</td>\n",
       "      <td>78</td>\n",
       "      <td>92</td>\n",
       "      <td>6</td>\n",
       "      <td>9</td>\n",
       "    </tr>\n",
       "    <tr>\n",
       "      <th>8</th>\n",
       "      <td>55</td>\n",
       "      <td>31</td>\n",
       "      <td>61</td>\n",
       "      <td>15</td>\n",
       "      <td>29</td>\n",
       "      <td>33</td>\n",
       "      <td>1</td>\n",
       "      <td>5</td>\n",
       "      <td>15</td>\n",
       "      <td>11</td>\n",
       "      <td>49</td>\n",
       "      <td>42</td>\n",
       "      <td>14</td>\n",
       "      <td>41</td>\n",
       "      <td>51</td>\n",
       "      <td>51</td>\n",
       "      <td>72</td>\n",
       "      <td>28</td>\n",
       "      <td>13</td>\n",
       "      <td>11</td>\n",
       "    </tr>\n",
       "    <tr>\n",
       "      <th>9</th>\n",
       "      <td>73</td>\n",
       "      <td>72</td>\n",
       "      <td>85</td>\n",
       "      <td>25</td>\n",
       "      <td>31</td>\n",
       "      <td>69</td>\n",
       "      <td>10</td>\n",
       "      <td>17</td>\n",
       "      <td>19</td>\n",
       "      <td>15</td>\n",
       "      <td>79</td>\n",
       "      <td>70</td>\n",
       "      <td>46</td>\n",
       "      <td>61</td>\n",
       "      <td>64</td>\n",
       "      <td>82</td>\n",
       "      <td>48</td>\n",
       "      <td>61</td>\n",
       "      <td>48</td>\n",
       "      <td>30</td>\n",
       "    </tr>\n",
       "    <tr>\n",
       "      <th>11</th>\n",
       "      <td>96</td>\n",
       "      <td>17</td>\n",
       "      <td>92</td>\n",
       "      <td>35</td>\n",
       "      <td>66</td>\n",
       "      <td>32</td>\n",
       "      <td>17</td>\n",
       "      <td>11</td>\n",
       "      <td>51</td>\n",
       "      <td>42</td>\n",
       "      <td>81</td>\n",
       "      <td>72</td>\n",
       "      <td>50</td>\n",
       "      <td>64</td>\n",
       "      <td>11</td>\n",
       "      <td>92</td>\n",
       "      <td>91</td>\n",
       "      <td>30</td>\n",
       "      <td>11</td>\n",
       "      <td>34</td>\n",
       "    </tr>\n",
       "    <tr>\n",
       "      <th>12</th>\n",
       "      <td>92</td>\n",
       "      <td>17</td>\n",
       "      <td>83</td>\n",
       "      <td>13</td>\n",
       "      <td>62</td>\n",
       "      <td>51</td>\n",
       "      <td>4</td>\n",
       "      <td>17</td>\n",
       "      <td>30</td>\n",
       "      <td>15</td>\n",
       "      <td>61</td>\n",
       "      <td>72</td>\n",
       "      <td>34</td>\n",
       "      <td>51</td>\n",
       "      <td>11</td>\n",
       "      <td>63</td>\n",
       "      <td>94</td>\n",
       "      <td>28</td>\n",
       "      <td>2</td>\n",
       "      <td>62</td>\n",
       "    </tr>\n",
       "    <tr>\n",
       "      <th>15</th>\n",
       "      <td>30</td>\n",
       "      <td>52</td>\n",
       "      <td>99</td>\n",
       "      <td>11</td>\n",
       "      <td>80</td>\n",
       "      <td>75</td>\n",
       "      <td>18</td>\n",
       "      <td>2</td>\n",
       "      <td>5</td>\n",
       "      <td>3</td>\n",
       "      <td>57</td>\n",
       "      <td>52</td>\n",
       "      <td>46</td>\n",
       "      <td>89</td>\n",
       "      <td>5</td>\n",
       "      <td>97</td>\n",
       "      <td>25</td>\n",
       "      <td>31</td>\n",
       "      <td>3</td>\n",
       "      <td>9</td>\n",
       "    </tr>\n",
       "  </tbody>\n",
       "</table>\n",
       "</div>"
      ],
      "text/plain": [
       "    Real coffee  Instant coffee  Tea  Sweetener  Biscuits  Powder soup  \\\n",
       "0            90              49   88         19        57           51   \n",
       "1            82              10   60          2        55           41   \n",
       "2            88              42   63          4        76           53   \n",
       "3            96              62   98         32        62           67   \n",
       "4            94              38   48         11        74           37   \n",
       "5            97              61   86         28        79           73   \n",
       "6            27              86   99         22        91           55   \n",
       "7            72              26   77          2        22           34   \n",
       "8            55              31   61         15        29           33   \n",
       "9            73              72   85         25        31           69   \n",
       "11           96              17   92         35        66           32   \n",
       "12           92              17   83         13        62           51   \n",
       "15           30              52   99         11        80           75   \n",
       "\n",
       "    Tin soup  Potatoes  Frozen fish  Frozen veggies  Apples  Oranges  \\\n",
       "0         19        21           27              21      81       75   \n",
       "1          3         2            4               2      67       71   \n",
       "2         11        23           11               5      87       84   \n",
       "3         43         7           14              14      83       89   \n",
       "4         23         9           13              12      76       76   \n",
       "5         12         7           26              23      85       94   \n",
       "6         76        17           20              24      76       68   \n",
       "7          1         5           20               3      22       51   \n",
       "8          1         5           15              11      49       42   \n",
       "9         10        17           19              15      79       70   \n",
       "11        17        11           51              42      81       72   \n",
       "12         4        17           30              15      61       72   \n",
       "15        18         2            5               3      57       52   \n",
       "\n",
       "    Tinned fruit  Jam  Garlic  Butter  Margarine  Olive oil  Yoghurt  \\\n",
       "0             44   71      22      91         85         74       30   \n",
       "1              9   46      80      66         24         94        5   \n",
       "2             40   45      88      94         47         36       57   \n",
       "3             61   81      15      31         97         13       53   \n",
       "4             42   57      29      84         80         83       20   \n",
       "5             83   20      91      94         94         84       31   \n",
       "6             89   91      11      95         94         57       11   \n",
       "7              8   16      89      65         78         92        6   \n",
       "8             14   41      51      51         72         28       13   \n",
       "9             46   61      64      82         48         61       48   \n",
       "11            50   64      11      92         91         30       11   \n",
       "12            34   51      11      63         94         28        2   \n",
       "15            46   89       5      97         25         31        3   \n",
       "\n",
       "    Crisp bread  \n",
       "0            26  \n",
       "1            18  \n",
       "2             3  \n",
       "3            15  \n",
       "4             5  \n",
       "5            24  \n",
       "6            28  \n",
       "7             9  \n",
       "8            11  \n",
       "9            30  \n",
       "11           34  \n",
       "12           62  \n",
       "15            9  "
      ]
     },
     "execution_count": 74,
     "metadata": {},
     "output_type": "execute_result"
    }
   ],
   "source": [
    "food_consumption_clean"
   ]
  },
  {
   "cell_type": "code",
   "execution_count": 73,
   "metadata": {},
   "outputs": [],
   "source": [
    "food_consumption_clean = food_consumption_clean.drop(columns=[\"Country\"])"
   ]
  },
  {
   "cell_type": "code",
   "execution_count": 22,
   "metadata": {},
   "outputs": [],
   "source": [
    "food_consumption_clean = food_consumption.drop(labels=[13], axis=0)"
   ]
  },
  {
   "cell_type": "code",
   "execution_count": 70,
   "metadata": {},
   "outputs": [],
   "source": [
    "food_consumption_clean = food_consumption.drop(labels=[10,13,14], axis=0)"
   ]
  },
  {
   "cell_type": "code",
   "execution_count": 14,
   "metadata": {},
   "outputs": [
    {
     "data": {
      "text/plain": [
       "13"
      ]
     },
     "execution_count": 14,
     "metadata": {},
     "output_type": "execute_result"
    }
   ],
   "source": [
    "len(food_consumption_clean)"
   ]
  },
  {
   "cell_type": "code",
   "execution_count": 76,
   "metadata": {},
   "outputs": [],
   "source": [
    "food_consumption_clean = food_consumption_clean.to_numpy()"
   ]
  },
  {
   "cell_type": "code",
   "execution_count": 77,
   "metadata": {},
   "outputs": [
    {
     "data": {
      "text/plain": [
       "array([[90, 49, 88, 19, 57, 51, 19, 21, 27, 21, 81, 75, 44, 71, 22, 91,\n",
       "        85, 74, 30, 26],\n",
       "       [82, 10, 60,  2, 55, 41,  3,  2,  4,  2, 67, 71,  9, 46, 80, 66,\n",
       "        24, 94,  5, 18],\n",
       "       [88, 42, 63,  4, 76, 53, 11, 23, 11,  5, 87, 84, 40, 45, 88, 94,\n",
       "        47, 36, 57,  3],\n",
       "       [96, 62, 98, 32, 62, 67, 43,  7, 14, 14, 83, 89, 61, 81, 15, 31,\n",
       "        97, 13, 53, 15],\n",
       "       [94, 38, 48, 11, 74, 37, 23,  9, 13, 12, 76, 76, 42, 57, 29, 84,\n",
       "        80, 83, 20,  5],\n",
       "       [97, 61, 86, 28, 79, 73, 12,  7, 26, 23, 85, 94, 83, 20, 91, 94,\n",
       "        94, 84, 31, 24],\n",
       "       [27, 86, 99, 22, 91, 55, 76, 17, 20, 24, 76, 68, 89, 91, 11, 95,\n",
       "        94, 57, 11, 28],\n",
       "       [72, 26, 77,  2, 22, 34,  1,  5, 20,  3, 22, 51,  8, 16, 89, 65,\n",
       "        78, 92,  6,  9],\n",
       "       [55, 31, 61, 15, 29, 33,  1,  5, 15, 11, 49, 42, 14, 41, 51, 51,\n",
       "        72, 28, 13, 11],\n",
       "       [73, 72, 85, 25, 31, 69, 10, 17, 19, 15, 79, 70, 46, 61, 64, 82,\n",
       "        48, 61, 48, 30],\n",
       "       [96, 17, 92, 35, 66, 32, 17, 11, 51, 42, 81, 72, 50, 64, 11, 92,\n",
       "        91, 30, 11, 34],\n",
       "       [92, 17, 83, 13, 62, 51,  4, 17, 30, 15, 61, 72, 34, 51, 11, 63,\n",
       "        94, 28,  2, 62],\n",
       "       [30, 52, 99, 11, 80, 75, 18,  2,  5,  3, 57, 52, 46, 89,  5, 97,\n",
       "        25, 31,  3,  9]], dtype=int64)"
      ]
     },
     "execution_count": 77,
     "metadata": {},
     "output_type": "execute_result"
    }
   ],
   "source": [
    "food_consumption_clean"
   ]
  },
  {
   "cell_type": "code",
   "execution_count": 78,
   "metadata": {},
   "outputs": [
    {
     "data": {
      "text/plain": [
       "(13, 20)"
      ]
     },
     "execution_count": 78,
     "metadata": {},
     "output_type": "execute_result"
    }
   ],
   "source": [
    "food_consumption_clean.shape"
   ]
  },
  {
   "cell_type": "code",
   "execution_count": 88,
   "metadata": {},
   "outputs": [
    {
     "data": {
      "text/plain": [
       "(20, 20)"
      ]
     },
     "execution_count": 88,
     "metadata": {},
     "output_type": "execute_result"
    }
   ],
   "source": [
    "cov = np.cov(food_consumption_clean.T)\n",
    "cov.shape"
   ]
  },
  {
   "cell_type": "code",
   "execution_count": 89,
   "metadata": {},
   "outputs": [],
   "source": [
    "values, vectors = np.linalg.eigh(cov)"
   ]
  },
  {
   "cell_type": "code",
   "execution_count": 90,
   "metadata": {},
   "outputs": [
    {
     "data": {
      "text/plain": [
       "(20, 20)"
      ]
     },
     "execution_count": 90,
     "metadata": {},
     "output_type": "execute_result"
    }
   ],
   "source": [
    "vectors.shape"
   ]
  },
  {
   "cell_type": "code",
   "execution_count": 91,
   "metadata": {},
   "outputs": [],
   "source": [
    "vectors = vectors[:,18:20]"
   ]
  },
  {
   "cell_type": "code",
   "execution_count": 92,
   "metadata": {},
   "outputs": [
    {
     "data": {
      "text/plain": [
       "array([[ 0.28983665, -0.11208818],\n",
       "       [ 0.25123265,  0.25943685],\n",
       "       [-0.01851113,  0.21528504],\n",
       "       [ 0.07195378,  0.13439271],\n",
       "       [ 0.15419178,  0.25219885],\n",
       "       [ 0.14553392,  0.13126546],\n",
       "       [ 0.06606869,  0.30514742],\n",
       "       [ 0.06116692,  0.04108288],\n",
       "       [ 0.02360207,  0.05844802],\n",
       "       [ 0.05827779,  0.11134183],\n",
       "       [ 0.286291  ,  0.18019255],\n",
       "       [ 0.30416867,  0.07913043],\n",
       "       [ 0.3356507 ,  0.36501893],\n",
       "       [-0.18978577,  0.35268234],\n",
       "       [ 0.46615123, -0.49134034],\n",
       "       [ 0.17319717,  0.07759956],\n",
       "       [ 0.14049532,  0.19417823],\n",
       "       [ 0.30688484, -0.26928283],\n",
       "       [ 0.32282907,  0.05100962],\n",
       "       [-0.04184009,  0.08750338]])"
      ]
     },
     "execution_count": 92,
     "metadata": {},
     "output_type": "execute_result"
    }
   ],
   "source": [
    "vectors"
   ]
  },
  {
   "cell_type": "code",
   "execution_count": 93,
   "metadata": {},
   "outputs": [
    {
     "data": {
      "text/plain": [
       "5.230597984085815"
      ]
     },
     "execution_count": 93,
     "metadata": {},
     "output_type": "execute_result"
    }
   ],
   "source": [
    "np.sum(vectors)"
   ]
  },
  {
   "cell_type": "code",
   "execution_count": 95,
   "metadata": {},
   "outputs": [
    {
     "data": {
      "text/plain": [
       "array([-2.23379046e-13, -4.13023562e-14, -2.45351713e-14, -1.12223162e-14,\n",
       "        2.25371189e-14,  7.46780981e-14,  1.03536134e-13,  2.65188373e-13,\n",
       "        9.12449215e+00,  7.79166565e+01,  1.10579799e+02,  1.19712808e+02,\n",
       "        2.34673462e+02,  2.88549510e+02,  3.95831975e+02,  6.35971414e+02,\n",
       "        8.06605559e+02,  1.26695951e+03,  1.51280671e+03,  3.02753734e+03])"
      ]
     },
     "execution_count": 95,
     "metadata": {},
     "output_type": "execute_result"
    }
   ],
   "source": [
    "values"
   ]
  },
  {
   "cell_type": "code",
   "execution_count": 96,
   "metadata": {},
   "outputs": [],
   "source": [
    "values = values[18:20]"
   ]
  },
  {
   "cell_type": "code",
   "execution_count": 97,
   "metadata": {},
   "outputs": [
    {
     "data": {
      "text/plain": [
       "array([1512.80670551, 3027.53733999])"
      ]
     },
     "execution_count": 97,
     "metadata": {},
     "output_type": "execute_result"
    }
   ],
   "source": [
    "values"
   ]
  },
  {
   "cell_type": "code",
   "execution_count": 100,
   "metadata": {},
   "outputs": [
    {
     "data": {
      "image/png": "[encoded data removed]",
      "text/plain": [
       "<Figure size 432x288 with 1 Axes>"
      ]
     },
     "metadata": {
      "needs_background": "light"
     },
     "output_type": "display_data"
    }
   ],
   "source": [
    "plt.title('First two principal directions')\n",
    "plt.xlabel('PC 1')\n",
    "plt.ylabel('PC 2')\n",
    "for i in range(len(vectors)):\n",
    "    plt.quiver([0], [0], vectors[i, 0], vectors[i, 1], scale = 2)\n",
    "    \n",
    "    \n"
   ]
  },
  {
   "cell_type": "code",
   "execution_count": 105,
   "metadata": {},
   "outputs": [],
   "source": [
    "G = np.dot(food_consumption_clean,vectors)"
   ]
  },
  {
   "cell_type": "code",
   "execution_count": 106,
   "metadata": {},
   "outputs": [
    {
     "data": {
      "text/plain": [
       "array([[175.30684327, 114.03703022],\n",
       "       [157.16249484,  11.48779343],\n",
       "       [205.8673559 ,  66.21229585],\n",
       "       [170.01175397, 158.15837919],\n",
       "       [175.74550363,  86.19113343],\n",
       "       [253.52086155,  86.76815881],\n",
       "       [168.85354277, 192.99384761],\n",
       "       [150.43535554,  -3.11120197],\n",
       "       [113.09350657,  49.97248922],\n",
       "       [188.82912616,  86.52614852],\n",
       "       [148.09969072, 128.28014614],\n",
       "       [127.19030137, 104.19818233],\n",
       "       [109.00586432, 134.22457151]])"
      ]
     },
     "execution_count": 106,
     "metadata": {},
     "output_type": "execute_result"
    }
   ],
   "source": [
    "G"
   ]
  },
  {
   "cell_type": "code",
   "execution_count": 121,
   "metadata": {},
   "outputs": [],
   "source": [
    "new_vec_1 = (G[:,0].T)/np.sqrt(values[0])\n",
    "new_vec_2 = (G[:,1].T)/np.sqrt(values[1])"
   ]
  },
  {
   "cell_type": "code",
   "execution_count": 128,
   "metadata": {},
   "outputs": [
    {
     "data": {
      "image/png": "[encoded data removed]",
      "text/plain": [
       "<Figure size 1440x720 with 1 Axes>"
      ]
     },
     "metadata": {
      "needs_background": "light"
     },
     "output_type": "display_data"
    }
   ],
   "source": [
    "plt.figure(figsize=(20,10))\n",
    "plt.plot(new_vec_1, new_vec_2, 'b.')\n",
    "\n",
    "plt.axvline(0, linewidth=0.4)\n",
    "plt.axhline(0, linewidth=0.4)\n",
    "\n",
    "countries = food_consumption['Country']\n",
    "\n",
    "\n",
    "\n",
    "for i in range(countries.shape[0] -3):\n",
    "    plt.text(new_vec_1[i], new_vec_2[i], countries[i])"
   ]
  },
  {
   "cell_type": "code",
   "execution_count": 107,
   "metadata": {},
   "outputs": [
    {
     "data": {
      "text/plain": [
       "<matplotlib.collections.PathCollection at 0x20cccb1b388>"
      ]
     },
     "execution_count": 107,
     "metadata": {},
     "output_type": "execute_result"
    },
    {
     "data": {
      "image/png": "[encoded data removed]",
      "text/plain": [
       "<Figure size 432x288 with 1 Axes>"
      ]
     },
     "metadata": {
      "needs_background": "light"
     },
     "output_type": "display_data"
    }
   ],
   "source": [
    "plt.scatter(G[:, 1], G[:, 0])"
   ]
  },
  {
   "cell_type": "code",
   "execution_count": null,
   "metadata": {},
   "outputs": [],
   "source": []
  },
  {
   "cell_type": "code",
   "execution_count": null,
   "metadata": {},
   "outputs": [],
   "source": []
  },
  {
   "cell_type": "markdown",
   "metadata": {},
   "source": [
    "### Backup not important"
   ]
  },
  {
   "cell_type": "code",
   "execution_count": 29,
   "metadata": {},
   "outputs": [],
   "source": [
    "def cov(X,m):\n",
    "    temp = X.shape\n",
    "    covariance = np.zeros(temp[1])\n",
    "    for j in range(len(m)):\n",
    "        for i in range(len(X)):\n",
    "            covariance[j] += (X[i][j]-m[j])*(np.transpose(X[i][j]-m[j]))\n",
    "        \n",
    "    return covariance/len(X)\n",
    "    "
   ]
  },
  {
   "cell_type": "code",
   "execution_count": 62,
   "metadata": {},
   "outputs": [
    {
     "name": "stderr",
     "output_type": "stream",
     "text": [
      "/Users/lars-manuelschneider/opt/anaconda3/lib/python3.8/site-packages/numpy/core/_asarray.py:102: ComplexWarning: Casting complex values to real discards the imaginary part\n",
      "  return array(a, dtype, copy=False, order=order)\n"
     ]
    },
    {
     "data": {
      "text/plain": [
       "[<matplotlib.lines.Line2D at 0x7fd6db98f100>]"
      ]
     },
     "execution_count": 62,
     "metadata": {},
     "output_type": "execute_result"
    },
    {
     "data": {
      "image/png": "[encoded data removed]",
      "text/plain": [
       "<Figure size 1440x720 with 1 Axes>"
      ]
     },
     "metadata": {
      "needs_background": "light"
     },
     "output_type": "display_data"
    }
   ],
   "source": [
    "fig = plt.figure(figsize=(20,10))\n",
    "y = np.zeros(len(values))\n",
    "fig.gca().plot(vectors[:,0],y, 'b.', markersize=20)"
   ]
  },
  {
   "cell_type": "code",
   "execution_count": 64,
   "metadata": {},
   "outputs": [
    {
     "name": "stderr",
     "output_type": "stream",
     "text": [
      "/Users/lars-manuelschneider/opt/anaconda3/lib/python3.8/site-packages/numpy/core/_asarray.py:102: ComplexWarning: Casting complex values to real discards the imaginary part\n",
      "  return array(a, dtype, copy=False, order=order)\n"
     ]
    },
    {
     "data": {
      "text/plain": [
       "[<matplotlib.lines.Line2D at 0x7fd6e8cb5850>]"
      ]
     },
     "execution_count": 64,
     "metadata": {},
     "output_type": "execute_result"
    },
    {
     "data": {
      "image/png": "[encoded data removed]",
      "text/plain": [
       "<Figure size 1440x720 with 1 Axes>"
      ]
     },
     "metadata": {
      "needs_background": "light"
     },
     "output_type": "display_data"
    }
   ],
   "source": [
    "fig = plt.figure(figsize=(20,10))\n",
    "x = np.zeros(len(values))\n",
    "fig.gca().plot(x, vectors[:,1], 'r.', markersize=20)"
   ]
  }
 ],
 "metadata": {
  "kernelspec": {
   "display_name": "Python 3",
   "language": "python",
   "name": "python3"
  },
  "language_info": {
   "codemirror_mode": {
    "name": "ipython",
    "version": 3
   },
   "file_extension": ".py",
   "mimetype": "text/x-python",
   "name": "python",
   "nbconvert_exporter": "python",
   "pygments_lexer": "ipython3",
   "version": "3.7.6"
  }
 },
 "nbformat": 4,
 "nbformat_minor": 5
}
