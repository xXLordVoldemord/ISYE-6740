{
 "cells": [
  {
   "cell_type": "code",
   "execution_count": 1,
   "id": "df8a5b5d",
   "metadata": {},
   "outputs": [],
   "source": [
    "#import all necessary libraries\n",
    "import numpy as np\n",
    "import pandas as pd\n",
    "import matplotlib.pyplot as plt\n",
    "import imageio\n",
    "import numpy.matlib\n",
    "import os"
   ]
  },
  {
   "cell_type": "code",
   "execution_count": 2,
   "id": "f5ebf857",
   "metadata": {},
   "outputs": [
    {
     "data": {
      "text/html": [
       "<div>\n",
       "<style scoped>\n",
       "    .dataframe tbody tr th:only-of-type {\n",
       "        vertical-align: middle;\n",
       "    }\n",
       "\n",
       "    .dataframe tbody tr th {\n",
       "        vertical-align: top;\n",
       "    }\n",
       "\n",
       "    .dataframe thead th {\n",
       "        text-align: right;\n",
       "    }\n",
       "</style>\n",
       "<table border=\"1\" class=\"dataframe\">\n",
       "  <thead>\n",
       "    <tr style=\"text-align: right;\">\n",
       "      <th></th>\n",
       "      <th>useless</th>\n",
       "      <th>Blog</th>\n",
       "      <th>Polit_Orientation</th>\n",
       "      <th>dont_Know</th>\n",
       "    </tr>\n",
       "  </thead>\n",
       "  <tbody>\n",
       "    <tr>\n",
       "      <th>0</th>\n",
       "      <td>1</td>\n",
       "      <td>100monkeystyping.com</td>\n",
       "      <td>0</td>\n",
       "      <td>Blogarama</td>\n",
       "    </tr>\n",
       "    <tr>\n",
       "      <th>1</th>\n",
       "      <td>2</td>\n",
       "      <td>12thharmonic.com/wordpress</td>\n",
       "      <td>0</td>\n",
       "      <td>BlogCatalog</td>\n",
       "    </tr>\n",
       "    <tr>\n",
       "      <th>2</th>\n",
       "      <td>3</td>\n",
       "      <td>40ozblog.blogspot.com</td>\n",
       "      <td>0</td>\n",
       "      <td>Blogarama,BlogCatalog</td>\n",
       "    </tr>\n",
       "    <tr>\n",
       "      <th>3</th>\n",
       "      <td>4</td>\n",
       "      <td>4lina.tblog.com</td>\n",
       "      <td>0</td>\n",
       "      <td>Blogarama</td>\n",
       "    </tr>\n",
       "    <tr>\n",
       "      <th>4</th>\n",
       "      <td>5</td>\n",
       "      <td>750volts.blogspot.com</td>\n",
       "      <td>0</td>\n",
       "      <td>Blogarama</td>\n",
       "    </tr>\n",
       "    <tr>\n",
       "      <th>...</th>\n",
       "      <td>...</td>\n",
       "      <td>...</td>\n",
       "      <td>...</td>\n",
       "      <td>...</td>\n",
       "    </tr>\n",
       "    <tr>\n",
       "      <th>1485</th>\n",
       "      <td>1486</td>\n",
       "      <td>youngconservative.blogspot.com</td>\n",
       "      <td>1</td>\n",
       "      <td>Blogarama</td>\n",
       "    </tr>\n",
       "    <tr>\n",
       "      <th>1486</th>\n",
       "      <td>1487</td>\n",
       "      <td>zebrax.blogs.com</td>\n",
       "      <td>1</td>\n",
       "      <td>BlogCatalog</td>\n",
       "    </tr>\n",
       "    <tr>\n",
       "      <th>1487</th>\n",
       "      <td>1488</td>\n",
       "      <td>zeke01.blogspot.com</td>\n",
       "      <td>1</td>\n",
       "      <td>Blogarama,BlogCatalog</td>\n",
       "    </tr>\n",
       "    <tr>\n",
       "      <th>1488</th>\n",
       "      <td>1489</td>\n",
       "      <td>zeke01.typepad.com</td>\n",
       "      <td>1</td>\n",
       "      <td>Blogarama</td>\n",
       "    </tr>\n",
       "    <tr>\n",
       "      <th>1489</th>\n",
       "      <td>1490</td>\n",
       "      <td>zeph1z.tripod.com/blog</td>\n",
       "      <td>1</td>\n",
       "      <td>Blogarama</td>\n",
       "    </tr>\n",
       "  </tbody>\n",
       "</table>\n",
       "<p>1490 rows × 4 columns</p>\n",
       "</div>"
      ],
      "text/plain": [
       "      useless                            Blog  Polit_Orientation  \\\n",
       "0           1            100monkeystyping.com                  0   \n",
       "1           2      12thharmonic.com/wordpress                  0   \n",
       "2           3           40ozblog.blogspot.com                  0   \n",
       "3           4                 4lina.tblog.com                  0   \n",
       "4           5           750volts.blogspot.com                  0   \n",
       "...       ...                             ...                ...   \n",
       "1485     1486  youngconservative.blogspot.com                  1   \n",
       "1486     1487                zebrax.blogs.com                  1   \n",
       "1487     1488             zeke01.blogspot.com                  1   \n",
       "1488     1489              zeke01.typepad.com                  1   \n",
       "1489     1490          zeph1z.tripod.com/blog                  1   \n",
       "\n",
       "                  dont_Know  \n",
       "0                 Blogarama  \n",
       "1               BlogCatalog  \n",
       "2     Blogarama,BlogCatalog  \n",
       "3                 Blogarama  \n",
       "4                 Blogarama  \n",
       "...                     ...  \n",
       "1485              Blogarama  \n",
       "1486            BlogCatalog  \n",
       "1487  Blogarama,BlogCatalog  \n",
       "1488              Blogarama  \n",
       "1489              Blogarama  \n",
       "\n",
       "[1490 rows x 4 columns]"
      ]
     },
     "execution_count": 2,
     "metadata": {},
     "output_type": "execute_result"
    }
   ],
   "source": [
    "# read the data set\n",
    "nodes = pd.read_csv('/Users/lars-manuelschneider/Downloads/data/nodes.txt', delimiter= \"\\t\", header=None)\n",
    "nodes.columns = [\"useless\", \"Blog\", \"Polit_Orientation\", \"dont_Know\"]\n",
    "nodes"
   ]
  },
  {
   "cell_type": "code",
   "execution_count": 3,
   "id": "83600b35",
   "metadata": {},
   "outputs": [],
   "source": [
    "#nodes = nodes.drop(columns=nodes.columns[0])"
   ]
  },
  {
   "cell_type": "code",
   "execution_count": 4,
   "id": "48f3cb09",
   "metadata": {},
   "outputs": [
    {
     "data": {
      "text/html": [
       "<div>\n",
       "<style scoped>\n",
       "    .dataframe tbody tr th:only-of-type {\n",
       "        vertical-align: middle;\n",
       "    }\n",
       "\n",
       "    .dataframe tbody tr th {\n",
       "        vertical-align: top;\n",
       "    }\n",
       "\n",
       "    .dataframe thead th {\n",
       "        text-align: right;\n",
       "    }\n",
       "</style>\n",
       "<table border=\"1\" class=\"dataframe\">\n",
       "  <thead>\n",
       "    <tr style=\"text-align: right;\">\n",
       "      <th></th>\n",
       "      <th>0</th>\n",
       "      <th>1</th>\n",
       "    </tr>\n",
       "  </thead>\n",
       "  <tbody>\n",
       "    <tr>\n",
       "      <th>0</th>\n",
       "      <td>267</td>\n",
       "      <td>1394</td>\n",
       "    </tr>\n",
       "    <tr>\n",
       "      <th>1</th>\n",
       "      <td>267</td>\n",
       "      <td>483</td>\n",
       "    </tr>\n",
       "    <tr>\n",
       "      <th>2</th>\n",
       "      <td>267</td>\n",
       "      <td>1051</td>\n",
       "    </tr>\n",
       "    <tr>\n",
       "      <th>3</th>\n",
       "      <td>904</td>\n",
       "      <td>1479</td>\n",
       "    </tr>\n",
       "    <tr>\n",
       "      <th>4</th>\n",
       "      <td>904</td>\n",
       "      <td>919</td>\n",
       "    </tr>\n",
       "    <tr>\n",
       "      <th>...</th>\n",
       "      <td>...</td>\n",
       "      <td>...</td>\n",
       "    </tr>\n",
       "    <tr>\n",
       "      <th>19085</th>\n",
       "      <td>1133</td>\n",
       "      <td>1390</td>\n",
       "    </tr>\n",
       "    <tr>\n",
       "      <th>19086</th>\n",
       "      <td>1133</td>\n",
       "      <td>1429</td>\n",
       "    </tr>\n",
       "    <tr>\n",
       "      <th>19087</th>\n",
       "      <td>1133</td>\n",
       "      <td>1423</td>\n",
       "    </tr>\n",
       "    <tr>\n",
       "      <th>19088</th>\n",
       "      <td>1133</td>\n",
       "      <td>1408</td>\n",
       "    </tr>\n",
       "    <tr>\n",
       "      <th>19089</th>\n",
       "      <td>1133</td>\n",
       "      <td>1152</td>\n",
       "    </tr>\n",
       "  </tbody>\n",
       "</table>\n",
       "<p>19090 rows × 2 columns</p>\n",
       "</div>"
      ],
      "text/plain": [
       "          0     1\n",
       "0       267  1394\n",
       "1       267   483\n",
       "2       267  1051\n",
       "3       904  1479\n",
       "4       904   919\n",
       "...     ...   ...\n",
       "19085  1133  1390\n",
       "19086  1133  1429\n",
       "19087  1133  1423\n",
       "19088  1133  1408\n",
       "19089  1133  1152\n",
       "\n",
       "[19090 rows x 2 columns]"
      ]
     },
     "execution_count": 4,
     "metadata": {},
     "output_type": "execute_result"
    }
   ],
   "source": [
    "edges = pd.read_csv('/Users/lars-manuelschneider/Downloads/data/edges.txt', delimiter= \"\\t\", header=None)\n",
    "edges"
   ]
  },
  {
   "cell_type": "code",
   "execution_count": 5,
   "id": "98853336",
   "metadata": {},
   "outputs": [],
   "source": [
    "#edges = edges.to_numpy()"
   ]
  },
  {
   "cell_type": "code",
   "execution_count": 6,
   "id": "0ffdaf9b",
   "metadata": {},
   "outputs": [
    {
     "data": {
      "text/html": [
       "<div>\n",
       "<style scoped>\n",
       "    .dataframe tbody tr th:only-of-type {\n",
       "        vertical-align: middle;\n",
       "    }\n",
       "\n",
       "    .dataframe tbody tr th {\n",
       "        vertical-align: top;\n",
       "    }\n",
       "\n",
       "    .dataframe thead th {\n",
       "        text-align: right;\n",
       "    }\n",
       "</style>\n",
       "<table border=\"1\" class=\"dataframe\">\n",
       "  <thead>\n",
       "    <tr style=\"text-align: right;\">\n",
       "      <th></th>\n",
       "      <th>0</th>\n",
       "      <th>1</th>\n",
       "    </tr>\n",
       "  </thead>\n",
       "  <tbody>\n",
       "    <tr>\n",
       "      <th>0</th>\n",
       "      <td>267</td>\n",
       "      <td>1394</td>\n",
       "    </tr>\n",
       "    <tr>\n",
       "      <th>1</th>\n",
       "      <td>267</td>\n",
       "      <td>483</td>\n",
       "    </tr>\n",
       "    <tr>\n",
       "      <th>2</th>\n",
       "      <td>267</td>\n",
       "      <td>1051</td>\n",
       "    </tr>\n",
       "    <tr>\n",
       "      <th>3</th>\n",
       "      <td>904</td>\n",
       "      <td>1479</td>\n",
       "    </tr>\n",
       "    <tr>\n",
       "      <th>4</th>\n",
       "      <td>904</td>\n",
       "      <td>919</td>\n",
       "    </tr>\n",
       "    <tr>\n",
       "      <th>...</th>\n",
       "      <td>...</td>\n",
       "      <td>...</td>\n",
       "    </tr>\n",
       "    <tr>\n",
       "      <th>19085</th>\n",
       "      <td>1133</td>\n",
       "      <td>1390</td>\n",
       "    </tr>\n",
       "    <tr>\n",
       "      <th>19086</th>\n",
       "      <td>1133</td>\n",
       "      <td>1429</td>\n",
       "    </tr>\n",
       "    <tr>\n",
       "      <th>19087</th>\n",
       "      <td>1133</td>\n",
       "      <td>1423</td>\n",
       "    </tr>\n",
       "    <tr>\n",
       "      <th>19088</th>\n",
       "      <td>1133</td>\n",
       "      <td>1408</td>\n",
       "    </tr>\n",
       "    <tr>\n",
       "      <th>19089</th>\n",
       "      <td>1133</td>\n",
       "      <td>1152</td>\n",
       "    </tr>\n",
       "  </tbody>\n",
       "</table>\n",
       "<p>19090 rows × 2 columns</p>\n",
       "</div>"
      ],
      "text/plain": [
       "          0     1\n",
       "0       267  1394\n",
       "1       267   483\n",
       "2       267  1051\n",
       "3       904  1479\n",
       "4       904   919\n",
       "...     ...   ...\n",
       "19085  1133  1390\n",
       "19086  1133  1429\n",
       "19087  1133  1423\n",
       "19088  1133  1408\n",
       "19089  1133  1152\n",
       "\n",
       "[19090 rows x 2 columns]"
      ]
     },
     "execution_count": 6,
     "metadata": {},
     "output_type": "execute_result"
    }
   ],
   "source": [
    "edges"
   ]
  },
  {
   "cell_type": "code",
   "execution_count": 7,
   "id": "766fbc1a",
   "metadata": {},
   "outputs": [],
   "source": [
    "cluster = 2"
   ]
  },
  {
   "cell_type": "code",
   "execution_count": 8,
   "id": "79213be5",
   "metadata": {},
   "outputs": [],
   "source": [
    "r = np.ones((edges.shape[0],1)).flatten()"
   ]
  },
  {
   "cell_type": "code",
   "execution_count": 9,
   "id": "357adfa5",
   "metadata": {},
   "outputs": [],
   "source": [
    "s = len(nodes)"
   ]
  },
  {
   "cell_type": "code",
   "execution_count": 10,
   "id": "63a8fca4",
   "metadata": {},
   "outputs": [],
   "source": [
    "n = 1490\n",
    "A = np.zeros((n,n))\n",
    "edges_array = np.array(edges)\n",
    "for i in edges_array:\n",
    "    if i[0] != i[1]:\n",
    "        A[i[0]-1][i[1]-1] = 1\n",
    "        A[i[1]-1][i[0]-1] = 1\n",
    "\n",
    "A_sum = np.sum(A, axis = 1)"
   ]
  },
  {
   "cell_type": "code",
   "execution_count": 11,
   "id": "91ad3c10",
   "metadata": {},
   "outputs": [
    {
     "data": {
      "text/plain": [
       "array([0., 0., 0., ..., 0., 0., 0.])"
      ]
     },
     "execution_count": 11,
     "metadata": {},
     "output_type": "execute_result"
    }
   ],
   "source": [
    "A[1489]"
   ]
  },
  {
   "cell_type": "code",
   "execution_count": 12,
   "id": "7f56afcb",
   "metadata": {},
   "outputs": [
    {
     "data": {
      "text/plain": [
       "1224"
      ]
     },
     "execution_count": 12,
     "metadata": {},
     "output_type": "execute_result"
    }
   ],
   "source": [
    "# now we need to get rid of all the isolated nodes, basically all the values when the row sum equals zero\n",
    "test = np.sum(A, axis=1)\n",
    "test\n",
    "np.count_nonzero(test)"
   ]
  },
  {
   "cell_type": "code",
   "execution_count": 13,
   "id": "765a6238",
   "metadata": {},
   "outputs": [],
   "source": [
    "isolated_nodes = np.where(A_sum == 0)[0]"
   ]
  },
  {
   "cell_type": "code",
   "execution_count": 14,
   "id": "a08b3467",
   "metadata": {},
   "outputs": [
    {
     "data": {
      "text/plain": [
       "array([   2,    3,   24,   47,   48,   49,   53,   56,   59,   60,   62,\n",
       "         70,   73,   90,   93,  107,  110,  111,  119,  121,  125,  130,\n",
       "        133,  134,  138,  145,  147,  152,  160,  163,  168,  173,  175,\n",
       "        182,  194,  195,  196,  198,  205,  213,  220,  225,  227,  230,\n",
       "        231,  233,  235,  239,  241,  246,  250,  253,  257,  259,  260,\n",
       "        262,  264,  265,  269,  270,  284,  285,  293,  301,  303,  305,\n",
       "        318,  319,  321,  323,  329,  333,  335,  338,  341,  342,  345,\n",
       "        347,  358,  365,  368,  371,  374,  375,  385,  394,  397,  411,\n",
       "        412,  422,  424,  429,  432,  434,  446,  454,  455,  456,  457,\n",
       "        458,  462,  463,  472,  475,  477,  481,  484,  485,  509,  519,\n",
       "        521,  525,  527,  528,  530,  532,  544,  545,  551,  556,  557,\n",
       "        564,  568,  570,  575,  580,  581,  585,  591,  592,  593,  598,\n",
       "        605,  606,  607,  610,  626,  628,  629,  632,  635,  637,  638,\n",
       "        655,  657,  662,  664,  671,  672,  677,  691,  694,  696,  697,\n",
       "        705,  706,  709,  718,  722,  723,  727,  732,  733,  741,  745,\n",
       "        747,  749,  750,  751,  752,  758,  768,  769,  782,  784,  788,\n",
       "        794,  831,  843,  844,  852,  865,  866,  876,  901,  904,  905,\n",
       "        916,  922,  923,  927,  947,  956,  968,  975,  984,  985,  996,\n",
       "        998, 1001, 1010, 1011, 1015, 1021, 1026, 1031, 1032, 1034, 1038,\n",
       "       1042, 1049, 1055, 1058, 1065, 1072, 1093, 1097, 1106, 1109, 1110,\n",
       "       1117, 1119, 1131, 1136, 1137, 1141, 1142, 1146, 1150, 1172, 1173,\n",
       "       1180, 1227, 1229, 1234, 1240, 1242, 1247, 1271, 1282, 1283, 1284,\n",
       "       1291, 1293, 1298, 1310, 1311, 1323, 1326, 1346, 1357, 1362, 1369,\n",
       "       1375, 1385, 1399, 1423, 1442, 1451, 1452, 1461, 1463, 1464, 1465,\n",
       "       1479, 1482])"
      ]
     },
     "execution_count": 14,
     "metadata": {},
     "output_type": "execute_result"
    }
   ],
   "source": [
    "isolated_nodes"
   ]
  },
  {
   "cell_type": "code",
   "execution_count": 15,
   "id": "cf92191d",
   "metadata": {},
   "outputs": [],
   "source": [
    "A_new= np.delete(A, isolated_nodes, axis=1)\n",
    "A_new = np.delete(A_new,isolated_nodes, axis=0)"
   ]
  },
  {
   "cell_type": "code",
   "execution_count": 16,
   "id": "a3ad5524",
   "metadata": {},
   "outputs": [
    {
     "data": {
      "text/plain": [
       "1224"
      ]
     },
     "execution_count": 16,
     "metadata": {},
     "output_type": "execute_result"
    }
   ],
   "source": [
    "len(A_new)"
   ]
  },
  {
   "cell_type": "code",
   "execution_count": 17,
   "id": "81ce77e7",
   "metadata": {},
   "outputs": [
    {
     "data": {
      "text/plain": [
       "array([[0., 1., 0., ..., 0., 0., 0.],\n",
       "       [1., 0., 0., ..., 0., 0., 0.],\n",
       "       [0., 0., 0., ..., 0., 0., 0.],\n",
       "       ...,\n",
       "       [0., 0., 0., ..., 0., 1., 0.],\n",
       "       [0., 0., 0., ..., 1., 0., 0.],\n",
       "       [0., 0., 0., ..., 0., 0., 0.]])"
      ]
     },
     "execution_count": 17,
     "metadata": {},
     "output_type": "execute_result"
    }
   ],
   "source": [
    "A_new"
   ]
  },
  {
   "cell_type": "code",
   "execution_count": 18,
   "id": "80f3eee8",
   "metadata": {},
   "outputs": [],
   "source": [
    "D = np.diag(np.sum(A_new, axis =1))"
   ]
  },
  {
   "cell_type": "code",
   "execution_count": 19,
   "id": "c1d8dfc3",
   "metadata": {},
   "outputs": [
    {
     "data": {
      "text/plain": [
       "array([[26.,  0.,  0., ...,  0.,  0.,  0.],\n",
       "       [ 0., 45.,  0., ...,  0.,  0.,  0.],\n",
       "       [ 0.,  0.,  4., ...,  0.,  0.,  0.],\n",
       "       ...,\n",
       "       [ 0.,  0.,  0., ...,  1.,  0.,  0.],\n",
       "       [ 0.,  0.,  0., ...,  0., 18.,  0.],\n",
       "       [ 0.,  0.,  0., ...,  0.,  0.,  1.]])"
      ]
     },
     "execution_count": 19,
     "metadata": {},
     "output_type": "execute_result"
    }
   ],
   "source": [
    "D"
   ]
  },
  {
   "cell_type": "code",
   "execution_count": 20,
   "id": "ebf9446f",
   "metadata": {},
   "outputs": [],
   "source": [
    "L = D-A_new"
   ]
  },
  {
   "cell_type": "code",
   "execution_count": 21,
   "id": "fc204480",
   "metadata": {},
   "outputs": [
    {
     "data": {
      "text/plain": [
       "array([[26., -1.,  0., ...,  0.,  0.,  0.],\n",
       "       [-1., 45.,  0., ...,  0.,  0.,  0.],\n",
       "       [ 0.,  0.,  4., ...,  0.,  0.,  0.],\n",
       "       ...,\n",
       "       [ 0.,  0.,  0., ...,  1., -1.,  0.],\n",
       "       [ 0.,  0.,  0., ..., -1., 18.,  0.],\n",
       "       [ 0.,  0.,  0., ...,  0.,  0.,  1.]])"
      ]
     },
     "execution_count": 21,
     "metadata": {},
     "output_type": "execute_result"
    }
   ],
   "source": [
    "L"
   ]
  },
  {
   "cell_type": "code",
   "execution_count": 83,
   "id": "810ca71c",
   "metadata": {},
   "outputs": [],
   "source": [
    "# now compute the k eigenvectors of the graph Laplacian\n",
    "from numpy import linalg as LA\n",
    "w,v = LA.eigh(L) # w is the eigenvalue and v is the eigenvector\n"
   ]
  },
  {
   "cell_type": "code",
   "execution_count": 84,
   "id": "938a6f0c",
   "metadata": {},
   "outputs": [
    {
     "data": {
      "text/plain": [
       "array([[ 6.29588866e-20, -2.86064784e-02, -1.58866314e-03, ...,\n",
       "         4.69059623e-05, -1.50028327e-04,  2.86881278e-03],\n",
       "       [-2.14297930e-17, -2.86064784e-02, -1.59180448e-03, ...,\n",
       "         3.75933956e-05, -2.04648011e-04,  2.90496915e-03],\n",
       "       [ 5.17969544e-16, -2.86064784e-02, -1.72488028e-03, ...,\n",
       "        -1.86848086e-05, -4.60539729e-05, -1.48941553e-05],\n",
       "       ...,\n",
       "       [-3.97228535e-16, -2.86064784e-02, -1.88647150e-03, ...,\n",
       "        -1.11631244e-05, -5.99068988e-07, -3.04397639e-08],\n",
       "       [ 1.98783727e-17, -2.86064784e-02, -1.56823977e-03, ...,\n",
       "         3.36044426e-03,  1.83392984e-04,  1.06857486e-05],\n",
       "       [-5.26394313e-16, -2.86064784e-02, -1.91584569e-03, ...,\n",
       "         1.05672450e-06,  1.04750618e-06,  1.67197840e-07]])"
      ]
     },
     "execution_count": 84,
     "metadata": {},
     "output_type": "execute_result"
    }
   ],
   "source": [
    "v"
   ]
  },
  {
   "cell_type": "code",
   "execution_count": 73,
   "id": "73c299bf-f799-4725-96d6-fd790e3a2033",
   "metadata": {},
   "outputs": [
    {
     "data": {
      "text/plain": [
       "array([[ 6.29588866e-20, -2.86064784e-02],\n",
       "       [-2.14297930e-17, -2.86064784e-02],\n",
       "       [ 5.17969544e-16, -2.86064784e-02],\n",
       "       ...,\n",
       "       [-3.97228535e-16, -2.86064784e-02],\n",
       "       [ 1.98783727e-17, -2.86064784e-02],\n",
       "       [-5.26394313e-16, -2.86064784e-02]])"
      ]
     },
     "execution_count": 73,
     "metadata": {},
     "output_type": "execute_result"
    }
   ],
   "source": [
    "v[:,0:2]"
   ]
  },
  {
   "cell_type": "code",
   "execution_count": 85,
   "id": "8a4153bd-98b0-4bb8-8eb1-f8ac28b43b4b",
   "metadata": {},
   "outputs": [],
   "source": [
    "# depending on the amount of clusters I am keeping the amount of eigenvectors\n",
    "v = v[:,0:6]"
   ]
  },
  {
   "cell_type": "code",
   "execution_count": 25,
   "id": "c1607a13-fae5-4e2f-89e8-5e820a9e60f1",
   "metadata": {},
   "outputs": [
    {
     "data": {
      "text/plain": [
       "(1224, 3)"
      ]
     },
     "execution_count": 25,
     "metadata": {},
     "output_type": "execute_result"
    }
   ],
   "source": [
    "np.shape(v)"
   ]
  },
  {
   "cell_type": "code",
   "execution_count": 26,
   "id": "8336b470",
   "metadata": {},
   "outputs": [
    {
     "data": {
      "text/plain": [
       "array([], shape=(0, 2), dtype=int64)"
      ]
     },
     "execution_count": 26,
     "metadata": {},
     "output_type": "execute_result"
    }
   ],
   "source": [
    "# check if there is any nan value in the array\n",
    "np.argwhere(np.isnan(v))"
   ]
  },
  {
   "cell_type": "code",
   "execution_count": 86,
   "id": "9c312948",
   "metadata": {},
   "outputs": [],
   "source": [
    "# last step is running k-means from task 3 with the new data\n",
    "iter = 20\n",
    "in_centroids = initial_centroids(v,cluster)\n",
    "idx, centroids = k_means(v, in_centroids, iter)\n"
   ]
  },
  {
   "cell_type": "code",
   "execution_count": 33,
   "id": "9b721604-81de-4639-a483-a9e54f7a8f59",
   "metadata": {},
   "outputs": [
    {
     "data": {
      "text/plain": [
       "1224"
      ]
     },
     "execution_count": 33,
     "metadata": {},
     "output_type": "execute_result"
    }
   ],
   "source": [
    "len(idx)"
   ]
  },
  {
   "cell_type": "code",
   "execution_count": 34,
   "id": "036648fa-5928-43fc-84b9-fce1db3c36f9",
   "metadata": {},
   "outputs": [
    {
     "data": {
      "text/plain": [
       "0.0"
      ]
     },
     "execution_count": 34,
     "metadata": {},
     "output_type": "execute_result"
    }
   ],
   "source": [
    "min(idx)"
   ]
  },
  {
   "cell_type": "code",
   "execution_count": 35,
   "id": "dafd4199",
   "metadata": {},
   "outputs": [
    {
     "data": {
      "text/plain": [
       "(2, 3)"
      ]
     },
     "execution_count": 35,
     "metadata": {},
     "output_type": "execute_result"
    }
   ],
   "source": [
    "np.shape(centroids)"
   ]
  },
  {
   "cell_type": "code",
   "execution_count": 36,
   "id": "8b95b5c2-ed74-4cde-bb81-f2f5de71dbda",
   "metadata": {},
   "outputs": [
    {
     "data": {
      "text/plain": [
       "(1224,)"
      ]
     },
     "execution_count": 36,
     "metadata": {},
     "output_type": "execute_result"
    }
   ],
   "source": [
    "np.shape(idx)"
   ]
  },
  {
   "cell_type": "code",
   "execution_count": 37,
   "id": "8c607679-b46f-404a-961b-72b5e99156ae",
   "metadata": {},
   "outputs": [],
   "source": [
    "nodes = nodes.to_numpy()"
   ]
  },
  {
   "cell_type": "code",
   "execution_count": 38,
   "id": "96c038ee-e4ea-4df0-8452-940b807d4381",
   "metadata": {},
   "outputs": [
    {
     "data": {
      "text/plain": [
       "array([[1, '100monkeystyping.com', 0, 'Blogarama'],\n",
       "       [2, '12thharmonic.com/wordpress', 0, 'BlogCatalog'],\n",
       "       [3, '40ozblog.blogspot.com', 0, 'Blogarama,BlogCatalog'],\n",
       "       ...,\n",
       "       [1488, 'zeke01.blogspot.com', 1, 'Blogarama,BlogCatalog'],\n",
       "       [1489, 'zeke01.typepad.com', 1, 'Blogarama'],\n",
       "       [1490, 'zeph1z.tripod.com/blog', 1, 'Blogarama']], dtype=object)"
      ]
     },
     "execution_count": 38,
     "metadata": {},
     "output_type": "execute_result"
    }
   ],
   "source": [
    "nodes"
   ]
  },
  {
   "cell_type": "code",
   "execution_count": 39,
   "id": "9a57746b-d738-4cfe-b616-87d07a46cf16",
   "metadata": {},
   "outputs": [
    {
     "data": {
      "text/plain": [
       "array([0, 1, 2, ..., 1487, 1488, 1489], dtype=object)"
      ]
     },
     "execution_count": 39,
     "metadata": {},
     "output_type": "execute_result"
    }
   ],
   "source": [
    "for i in range (len(nodes)):\n",
    "    nodes[i][0] = i\n",
    "nodes[:,0]"
   ]
  },
  {
   "cell_type": "code",
   "execution_count": 40,
   "id": "3034fa96-6bd5-4cc4-8d50-7a3f69c8ed23",
   "metadata": {},
   "outputs": [
    {
     "data": {
      "text/plain": [
       "array([[0, '100monkeystyping.com', 0, 'Blogarama'],\n",
       "       [1, '12thharmonic.com/wordpress', 0, 'BlogCatalog'],\n",
       "       [2, '40ozblog.blogspot.com', 0, 'Blogarama,BlogCatalog'],\n",
       "       ...,\n",
       "       [1487, 'zeke01.blogspot.com', 1, 'Blogarama,BlogCatalog'],\n",
       "       [1488, 'zeke01.typepad.com', 1, 'Blogarama'],\n",
       "       [1489, 'zeph1z.tripod.com/blog', 1, 'Blogarama']], dtype=object)"
      ]
     },
     "execution_count": 40,
     "metadata": {},
     "output_type": "execute_result"
    }
   ],
   "source": [
    "nodes"
   ]
  },
  {
   "cell_type": "code",
   "execution_count": 41,
   "id": "63a418b3-e52e-4792-87da-92fe34fe0117",
   "metadata": {},
   "outputs": [],
   "source": [
    "nodes = np.delete(nodes, isolated_nodes,0)"
   ]
  },
  {
   "cell_type": "code",
   "execution_count": 42,
   "id": "481fad41-81d4-4a80-8ce0-f5501092497c",
   "metadata": {},
   "outputs": [
    {
     "data": {
      "text/plain": [
       "array([   2,    3,   24,   47,   48,   49,   53,   56,   59,   60,   62,\n",
       "         70,   73,   90,   93,  107,  110,  111,  119,  121,  125,  130,\n",
       "        133,  134,  138,  145,  147,  152,  160,  163,  168,  173,  175,\n",
       "        182,  194,  195,  196,  198,  205,  213,  220,  225,  227,  230,\n",
       "        231,  233,  235,  239,  241,  246,  250,  253,  257,  259,  260,\n",
       "        262,  264,  265,  269,  270,  284,  285,  293,  301,  303,  305,\n",
       "        318,  319,  321,  323,  329,  333,  335,  338,  341,  342,  345,\n",
       "        347,  358,  365,  368,  371,  374,  375,  385,  394,  397,  411,\n",
       "        412,  422,  424,  429,  432,  434,  446,  454,  455,  456,  457,\n",
       "        458,  462,  463,  472,  475,  477,  481,  484,  485,  509,  519,\n",
       "        521,  525,  527,  528,  530,  532,  544,  545,  551,  556,  557,\n",
       "        564,  568,  570,  575,  580,  581,  585,  591,  592,  593,  598,\n",
       "        605,  606,  607,  610,  626,  628,  629,  632,  635,  637,  638,\n",
       "        655,  657,  662,  664,  671,  672,  677,  691,  694,  696,  697,\n",
       "        705,  706,  709,  718,  722,  723,  727,  732,  733,  741,  745,\n",
       "        747,  749,  750,  751,  752,  758,  768,  769,  782,  784,  788,\n",
       "        794,  831,  843,  844,  852,  865,  866,  876,  901,  904,  905,\n",
       "        916,  922,  923,  927,  947,  956,  968,  975,  984,  985,  996,\n",
       "        998, 1001, 1010, 1011, 1015, 1021, 1026, 1031, 1032, 1034, 1038,\n",
       "       1042, 1049, 1055, 1058, 1065, 1072, 1093, 1097, 1106, 1109, 1110,\n",
       "       1117, 1119, 1131, 1136, 1137, 1141, 1142, 1146, 1150, 1172, 1173,\n",
       "       1180, 1227, 1229, 1234, 1240, 1242, 1247, 1271, 1282, 1283, 1284,\n",
       "       1291, 1293, 1298, 1310, 1311, 1323, 1326, 1346, 1357, 1362, 1369,\n",
       "       1375, 1385, 1399, 1423, 1442, 1451, 1452, 1461, 1463, 1464, 1465,\n",
       "       1479, 1482])"
      ]
     },
     "execution_count": 42,
     "metadata": {},
     "output_type": "execute_result"
    }
   ],
   "source": [
    "isolated_nodes"
   ]
  },
  {
   "cell_type": "code",
   "execution_count": 43,
   "id": "a261205a-f632-4439-bd7f-44bd148e1538",
   "metadata": {},
   "outputs": [
    {
     "data": {
      "text/plain": [
       "array([[0, '100monkeystyping.com', 0, 'Blogarama'],\n",
       "       [1, '12thharmonic.com/wordpress', 0, 'BlogCatalog'],\n",
       "       [4, '750volts.blogspot.com', 0, 'Blogarama'],\n",
       "       ...,\n",
       "       [1487, 'zeke01.blogspot.com', 1, 'Blogarama,BlogCatalog'],\n",
       "       [1488, 'zeke01.typepad.com', 1, 'Blogarama'],\n",
       "       [1489, 'zeph1z.tripod.com/blog', 1, 'Blogarama']], dtype=object)"
      ]
     },
     "execution_count": 43,
     "metadata": {},
     "output_type": "execute_result"
    }
   ],
   "source": [
    "nodes"
   ]
  },
  {
   "cell_type": "code",
   "execution_count": 44,
   "id": "fb27abf9-9114-4874-b677-6d347a0ec4fe",
   "metadata": {},
   "outputs": [],
   "source": [
    "counter_0 = 0\n",
    "for f in range(len(nodes)):\n",
    "    if (nodes[f][2] == 0):\n",
    "        counter_0 = counter_0 + 1"
   ]
  },
  {
   "cell_type": "code",
   "execution_count": 45,
   "id": "7f6c021b-c7a4-425a-be82-d06271ade824",
   "metadata": {},
   "outputs": [
    {
     "data": {
      "text/plain": [
       "588"
      ]
     },
     "execution_count": 45,
     "metadata": {},
     "output_type": "execute_result"
    }
   ],
   "source": [
    "counter_0"
   ]
  },
  {
   "cell_type": "code",
   "execution_count": 46,
   "id": "8ab6cc58-503b-407b-a9bd-55eb46fdb50d",
   "metadata": {},
   "outputs": [],
   "source": [
    "counter_1 = len(nodes)-counter_0"
   ]
  },
  {
   "cell_type": "code",
   "execution_count": 47,
   "id": "0031e2ec-7d3e-4c2c-828e-8dd6e5792168",
   "metadata": {},
   "outputs": [
    {
     "data": {
      "text/plain": [
       "636"
      ]
     },
     "execution_count": 47,
     "metadata": {},
     "output_type": "execute_result"
    }
   ],
   "source": [
    "counter_1"
   ]
  },
  {
   "cell_type": "code",
   "execution_count": 87,
   "id": "0f5859cc-1de9-4d25-b627-dc7648315f2a",
   "metadata": {},
   "outputs": [],
   "source": [
    "mismatch_0 = 0\n",
    "\n",
    "\n",
    "for i in range(len(nodes)):\n",
    "    if ((nodes[i][2] != idx[i])) and (nodes[i][2] == 0):\n",
    "        mismatch_0 = mismatch_0 +1"
   ]
  },
  {
   "cell_type": "code",
   "execution_count": 88,
   "id": "f0750fb0-81c4-4fa9-a986-608c2d3eb839",
   "metadata": {},
   "outputs": [
    {
     "data": {
      "text/plain": [
       "0.006802721088435374"
      ]
     },
     "execution_count": 88,
     "metadata": {},
     "output_type": "execute_result"
    }
   ],
   "source": [
    "false_class_0 = mismatch_0/counter_0\n",
    "false_class_0"
   ]
  },
  {
   "cell_type": "code",
   "execution_count": 89,
   "id": "fde7d104-45c8-47d5-b225-703da01a20a3",
   "metadata": {},
   "outputs": [],
   "source": [
    "mismatch_1 = 0\n",
    "\n",
    "\n",
    "for i in range(len(nodes)):\n",
    "    if ((nodes[i][2] != idx[i])) and (nodes[i][2] == 0):\n",
    "        mismatch_1 = mismatch_1 +1"
   ]
  },
  {
   "cell_type": "code",
   "execution_count": 90,
   "id": "ee0ec019-0a0c-4d2f-8a07-b0672c49059c",
   "metadata": {},
   "outputs": [
    {
     "data": {
      "text/plain": [
       "0.006289308176100629"
      ]
     },
     "execution_count": 90,
     "metadata": {},
     "output_type": "execute_result"
    }
   ],
   "source": [
    "false_class_1 = mismatch_1/counter_1\n",
    "false_class_1"
   ]
  },
  {
   "cell_type": "code",
   "execution_count": 28,
   "id": "78280ff7",
   "metadata": {},
   "outputs": [],
   "source": [
    "# create random initial centroids \n",
    "def initial_centroids(X, k):\n",
    "    m,n = X.shape\n",
    "    centroids = np.zeros((k,n))\n",
    "    idx = np.random.randint(0,m,k)\n",
    "    \n",
    "    for i in range (k):\n",
    "        centroids[i,:] = X[idx[i],:]\n",
    "    return centroids"
   ]
  },
  {
   "cell_type": "code",
   "execution_count": 29,
   "id": "21cd0b62",
   "metadata": {},
   "outputs": [],
   "source": [
    "# funtion that is able to find the closest centroid for each instance in\n",
    "# the data\n",
    "def closest_centroid(X, centroids):\n",
    "    ph = np.zeros((len(X)))\n",
    "    \n",
    "    \n",
    "    for i in range(len(X)):\n",
    "        distance = 99999 #init\n",
    "        \n",
    "        for j in range(len(centroids)):\n",
    "            if np.sum(np.square(abs(X[i,:]-centroids[j,:])))<distance:\n",
    "                distance=np.sum(np.square(abs(X[i,:]-centroids[j,:])))\n",
    "                ph[i] = j\n",
    "    return ph\n",
    "#, distance"
   ]
  },
  {
   "cell_type": "code",
   "execution_count": 30,
   "id": "4a282d07",
   "metadata": {},
   "outputs": [],
   "source": [
    "#compute the centroid of a cluster, in the vernacular the centroid is defeined\n",
    "# as the mean of all data points currently assigned to a certain cluster (different between means and mediods)\n",
    "def adjust_centroids(X,idx,k):\n",
    "    m,n = X.shape # number of rows, columns\n",
    "    centroids=np.zeros((k,n))\n",
    "    for i in range(0,k):\n",
    "        temp = idx==i #The result will contain T/F values. \n",
    "        temp = temp.astype(int) #Let's change the results to 1 and 0. 1 if the point belong to centroid i, 0 otherwise\n",
    "        counter = sum(temp); #total number of points. We will use this to calculate the mean of all points\n",
    "        temp.resize((np.size(X,0),1)) #from array to one long column of ones\n",
    "        total_matrix = np.matlib.repmat(temp,1,n) #repeat the 1 column three times (RBG)\n",
    "        temp = np.multiply(X,total_matrix) #filter data to only those belong to centroid i\n",
    "        centroids[i] = (1/counter)*np.sum(temp,axis=0) #sum each column and divide by total = average.  \n",
    "    return centroids"
   ]
  },
  {
   "cell_type": "code",
   "execution_count": 31,
   "id": "720e8a88",
   "metadata": {},
   "outputs": [],
   "source": [
    "def k_means(X, initial_centroids, iter):\n",
    "    centroids = initial_centroids\n",
    "    counter = 0\n",
    "    for i in range(iter):\n",
    "        #idx, distance = closest_centroid(X, centroids)\n",
    "        idx = closest_centroid(X, centroids)\n",
    "        centroids = adjust_centroids(X, idx, len(centroids))\n",
    "        counter = counter + 1\n",
    "        #print(counter, distance)\n",
    "        \n",
    "    return idx, centroids"
   ]
  },
  {
   "cell_type": "code",
   "execution_count": null,
   "id": "4f9a5e6d-189e-4cee-a5ea-2eac6ce6bd4c",
   "metadata": {},
   "outputs": [],
   "source": []
  }
 ],
 "metadata": {
  "kernelspec": {
   "display_name": "Python 3",
   "language": "python",
   "name": "python3"
  },
  "language_info": {
   "codemirror_mode": {
    "name": "ipython",
    "version": 3
   },
   "file_extension": ".py",
   "mimetype": "text/x-python",
   "name": "python",
   "nbconvert_exporter": "python",
   "pygments_lexer": "ipython3",
   "version": "3.8.8"
  }
 },
 "nbformat": 4,
 "nbformat_minor": 5
}
